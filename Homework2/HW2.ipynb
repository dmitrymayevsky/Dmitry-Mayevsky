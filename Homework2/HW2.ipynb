{
 "cells": [
  {
   "cell_type": "code",
   "execution_count": 30,
   "id": "fc18524e",
   "metadata": {},
   "outputs": [
    {
     "name": "stdout",
     "output_type": "stream",
     "text": [
      "2002-10-02 00:00:00\n",
      "2013-10-11 00:00:00\n",
      "1977-08-18 00:00:00\n"
     ]
    }
   ],
   "source": [
    "#Задание 1\n",
    "\n",
    "from datetime import datetime \n",
    "\n",
    "date_string1 = 'Wednesday, October 2, 2002'\n",
    "date_string2 = 'Friday, 11.10.13'\n",
    "date_string3 = 'Thursday, 18 August 1977'\n",
    "\n",
    "dateMoscow = datetime.strptime(date_string1, '%A, %B %d, %Y')\n",
    "dateGuardian = datetime.strptime(date_string2, '%A, %d.%m.%y')\n",
    "dateDaily = datetime.strptime(date_string3, '%A, %d %B %Y')\n",
    "\n",
    "print(dateMoscow)\n",
    "print(dateGuardian)\n",
    "print(dateDaily)"
   ]
  },
  {
   "cell_type": "code",
   "execution_count": 5,
   "id": "5d73a55e",
   "metadata": {},
   "outputs": [
    {
     "name": "stdout",
     "output_type": "stream",
     "text": [
      "['2022-01-01', '2022-01-02', '2022-01-03']\n"
     ]
    }
   ],
   "source": [
    "# Задание 2\n",
    "\n",
    "from datetime import datetime, timedelta\n",
    "\n",
    "def date_range(start_date, end_date):\n",
    "    try:\n",
    "        start = datetime.strptime(start_date, '%Y-%m-%d')\n",
    "        end = datetime.strptime(end_date, '%Y-%m-%d')\n",
    "    except ValueError:\n",
    "\n",
    "        return []\n",
    "\n",
    "    if start > end:\n",
    "\n",
    "        return []\n",
    "\n",
    "    result = []\n",
    "    current = start\n",
    "    while current <= end:\n",
    "        result.append(current.strftime('%Y-%m-%d'))\n",
    "        current += timedelta(days=1)\n",
    "\n",
    "    return result\n",
    "\n",
    "print(date_range('2022-01-01', '2022-01-03'))"
   ]
  }
 ],
 "metadata": {
  "kernelspec": {
   "display_name": "Python 3",
   "language": "python",
   "name": "python3"
  },
  "language_info": {
   "codemirror_mode": {
    "name": "ipython",
    "version": 3
   },
   "file_extension": ".py",
   "mimetype": "text/x-python",
   "name": "python",
   "nbconvert_exporter": "python",
   "pygments_lexer": "ipython3",
   "version": "3.13.2"
  }
 },
 "nbformat": 4,
 "nbformat_minor": 5
}
