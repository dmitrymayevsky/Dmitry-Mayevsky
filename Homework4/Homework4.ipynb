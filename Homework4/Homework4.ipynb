{
 "cells": [
  {
   "cell_type": "code",
   "execution_count": 6,
   "id": "1b987c6c",
   "metadata": {},
   "outputs": [
    {
     "name": "stdout",
     "output_type": "stream",
     "text": [
      "Номер А222ВС валиден. Регион: 96\n",
      "Номер не валиден.\n"
     ]
    }
   ],
   "source": [
    "#Задание 1\n",
    "\n",
    "\n",
    "import re\n",
    "\n",
    "def check_car_number(car_id):\n",
    "\n",
    "    valid_letters = 'АВЕКМНОРСТУХ'\n",
    "    \n",
    "\n",
    "    pattern = r'^([' + valid_letters + r'])(\\d{3})([' + valid_letters + r']{2})(\\d{2,3})$'\n",
    "    \n",
    "    match = re.match(pattern, car_id)\n",
    "    \n",
    "    if match:\n",
    "        number_part = match.group(1) + match.group(2) + match.group(3)\n",
    "        region = match.group(4)\n",
    "        return f\"Номер {number_part} валиден. Регион: {region}\"\n",
    "    else:\n",
    "        return \"Номер не валиден.\"\n",
    "\n",
    "print(check_car_number('А222ВС96')) \n",
    "print(check_car_number('АБ22ВВ193'))  \n"
   ]
  },
  {
   "cell_type": "code",
   "execution_count": 7,
   "id": "9dc90ee5",
   "metadata": {},
   "outputs": [
    {
     "name": "stdout",
     "output_type": "stream",
     "text": [
      "Напишите функцию, которая будет удалять все последовательные повторы слов из заданной строки при помощи регулярных выражений\n"
     ]
    }
   ],
   "source": [
    "#Задание 2 \n",
    "\n",
    "import re\n",
    "\n",
    "def remove_consecutive_duplicates(text):\n",
    "\n",
    "    pattern = r'\\b(\\w+)\\b(\\s+\\1)+'\n",
    "    \n",
    " \n",
    "    result = re.sub(pattern, r'\\1', text, flags=re.IGNORECASE)\n",
    "    return result\n",
    "\n",
    "\n",
    "some_string = ('Напишите функцию функцию, которая будет будет будет будет '\n",
    "               'удалять все все все все последовательные повторы слов '\n",
    "               'из из из из заданной строки строки при помощи регулярных '\n",
    "               'выражений')\n",
    "\n",
    "print(remove_consecutive_duplicates(some_string))\n"
   ]
  }
 ],
 "metadata": {
  "kernelspec": {
   "display_name": "Python 3",
   "language": "python",
   "name": "python3"
  },
  "language_info": {
   "codemirror_mode": {
    "name": "ipython",
    "version": 3
   },
   "file_extension": ".py",
   "mimetype": "text/x-python",
   "name": "python",
   "nbconvert_exporter": "python",
   "pygments_lexer": "ipython3",
   "version": "3.13.2"
  }
 },
 "nbformat": 4,
 "nbformat_minor": 5
}
