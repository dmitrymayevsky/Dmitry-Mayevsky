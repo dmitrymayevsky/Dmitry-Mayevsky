{
 "cells": [
  {
   "cell_type": "code",
   "execution_count": 31,
   "id": "925c264e",
   "metadata": {},
   "outputs": [],
   "source": [
    "import json\n",
    "\n",
    "purchases = {}\n",
    "with open('purchase_log.txt', 'r', encoding='utf-8') as file:\n",
    "    next(file)  \n",
    "    for line in file:\n",
    "        data = json.loads(line)\n",
    "        purchases[data['user_id']] = data['category']\n",
    "\n",
    "        "
   ]
  },
  {
   "cell_type": "code",
   "execution_count": 32,
   "id": "07a66219",
   "metadata": {},
   "outputs": [
    {
     "name": "stdout",
     "output_type": "stream",
     "text": [
      "1840e0b9d4 Продукты\n",
      "4e4f90fcfb Электроника\n"
     ]
    }
   ],
   "source": [
    "for user_id, category in list(purchases.items())[:2]:\n",
    "    print(user_id, category)"
   ]
  },
  {
   "cell_type": "code",
   "execution_count": 33,
   "id": "e13e1f63",
   "metadata": {},
   "outputs": [],
   "source": [
    "with open('visit_log.csv', 'r') as big_file:\n",
    "    with open('funnel.csv', 'w') as result_file:\n",
    "        result_file.write('user_id,source,category\\n')\n",
    "        next(big_file)\n",
    "        for line in big_file:\n",
    "            parts = line.strip().split(',')\n",
    "            user_id = parts[0]\n",
    "            source = parts[1]\n",
    "            if user_id in purchases:\n",
    "                category = purchases[user_id]\n",
    "                result_file.write(f'{user_id},{source},{category}\\n')"
   ]
  }
 ],
 "metadata": {
  "kernelspec": {
   "display_name": "Python 3",
   "language": "python",
   "name": "python3"
  },
  "language_info": {
   "codemirror_mode": {
    "name": "ipython",
    "version": 3
   },
   "file_extension": ".py",
   "mimetype": "text/x-python",
   "name": "python",
   "nbconvert_exporter": "python",
   "pygments_lexer": "ipython3",
   "version": "3.13.2"
  }
 },
 "nbformat": 4,
 "nbformat_minor": 5
}
